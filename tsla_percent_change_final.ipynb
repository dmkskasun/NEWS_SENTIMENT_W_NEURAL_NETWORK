{
 "cells": [
  {
   "cell_type": "code",
   "execution_count": 96,
   "metadata": {},
   "outputs": [],
   "source": [
    "# Initial imports\n",
    "import numpy as np\n",
    "import pandas as pd\n",
    "from pathlib import Path\n",
    "import tensorflow as tf\n",
    "%matplotlib inline"
   ]
  },
  {
   "cell_type": "code",
   "execution_count": 97,
   "metadata": {},
   "outputs": [],
   "source": [
    "# Set the random seed for reproducibility\n",
    "# Note: This is used for model prototyping, but it is good practice to comment this out and run multiple experiments to evaluate your model.\n",
    "from numpy.random import seed\n",
    "\n",
    "seed(1)\n",
    "from tensorflow import random\n",
    "\n",
    "random.set_seed(2)"
   ]
  },
  {
   "cell_type": "code",
   "execution_count": 98,
   "metadata": {},
   "outputs": [
    {
     "data": {
      "text/html": [
       "<div>\n",
       "<style scoped>\n",
       "    .dataframe tbody tr th:only-of-type {\n",
       "        vertical-align: middle;\n",
       "    }\n",
       "\n",
       "    .dataframe tbody tr th {\n",
       "        vertical-align: top;\n",
       "    }\n",
       "\n",
       "    .dataframe thead th {\n",
       "        text-align: right;\n",
       "    }\n",
       "</style>\n",
       "<table border=\"1\" class=\"dataframe\">\n",
       "  <thead>\n",
       "    <tr style=\"text-align: right;\">\n",
       "      <th></th>\n",
       "      <th>date</th>\n",
       "      <th>compound</th>\n",
       "      <th>negative</th>\n",
       "      <th>neutral</th>\n",
       "      <th>positive</th>\n",
       "      <th>text</th>\n",
       "      <th>Prices</th>\n",
       "    </tr>\n",
       "  </thead>\n",
       "  <tbody>\n",
       "    <tr>\n",
       "      <th>0</th>\n",
       "      <td>2012-05-23</td>\n",
       "      <td>0.9972</td>\n",
       "      <td>0.067</td>\n",
       "      <td>0.737</td>\n",
       "      <td>0.197</td>\n",
       "      <td>In today s bubble 2 0 world  billions of VC do...</td>\n",
       "      <td>0.007470</td>\n",
       "    </tr>\n",
       "    <tr>\n",
       "      <th>1</th>\n",
       "      <td>2012-06-21</td>\n",
       "      <td>0.6808</td>\n",
       "      <td>0.067</td>\n",
       "      <td>0.836</td>\n",
       "      <td>0.097</td>\n",
       "      <td>EquitiesAsian markets gained on Wednesday  ahe...</td>\n",
       "      <td>-0.048239</td>\n",
       "    </tr>\n",
       "    <tr>\n",
       "      <th>2</th>\n",
       "      <td>2012-08-05</td>\n",
       "      <td>0.9971</td>\n",
       "      <td>0.034</td>\n",
       "      <td>0.822</td>\n",
       "      <td>0.144</td>\n",
       "      <td>Entrepreneurs that have the capacity to change...</td>\n",
       "      <td>NaN</td>\n",
       "    </tr>\n",
       "    <tr>\n",
       "      <th>3</th>\n",
       "      <td>2012-10-19</td>\n",
       "      <td>0.9898</td>\n",
       "      <td>0.069</td>\n",
       "      <td>0.781</td>\n",
       "      <td>0.150</td>\n",
       "      <td>Google Inc   GOOG  got caught naked yesterday ...</td>\n",
       "      <td>-0.010734</td>\n",
       "    </tr>\n",
       "    <tr>\n",
       "      <th>4</th>\n",
       "      <td>2012-11-19</td>\n",
       "      <td>0.9893</td>\n",
       "      <td>0.006</td>\n",
       "      <td>0.917</td>\n",
       "      <td>0.077</td>\n",
       "      <td>Recent Performance of the Stocks Mentioned Bel...</td>\n",
       "      <td>0.031387</td>\n",
       "    </tr>\n",
       "  </tbody>\n",
       "</table>\n",
       "</div>"
      ],
      "text/plain": [
       "         date  compound  negative  neutral  positive  \\\n",
       "0  2012-05-23    0.9972     0.067    0.737     0.197   \n",
       "1  2012-06-21    0.6808     0.067    0.836     0.097   \n",
       "2  2012-08-05    0.9971     0.034    0.822     0.144   \n",
       "3  2012-10-19    0.9898     0.069    0.781     0.150   \n",
       "4  2012-11-19    0.9893     0.006    0.917     0.077   \n",
       "\n",
       "                                                text    Prices  \n",
       "0  In today s bubble 2 0 world  billions of VC do...  0.007470  \n",
       "1  EquitiesAsian markets gained on Wednesday  ahe... -0.048239  \n",
       "2  Entrepreneurs that have the capacity to change...       NaN  \n",
       "3  Google Inc   GOOG  got caught naked yesterday ... -0.010734  \n",
       "4  Recent Performance of the Stocks Mentioned Bel...  0.031387  "
      ]
     },
     "execution_count": 98,
     "metadata": {},
     "output_type": "execute_result"
    }
   ],
   "source": [
    "# Read in data\n",
    "data = Path(\"tsla_cleansed.csv\")\n",
    "stock_df = pd.read_csv(data)\n",
    "#df.sort_values(\"date\")\n",
    "stock_df.head()"
   ]
  },
  {
   "cell_type": "code",
   "execution_count": 99,
   "metadata": {},
   "outputs": [],
   "source": [
    "stock_df = stock_df.drop(columns=[\"text\"])"
   ]
  },
  {
   "cell_type": "code",
   "execution_count": 100,
   "metadata": {},
   "outputs": [],
   "source": [
    "stock_df.dropna(inplace=True)"
   ]
  },
  {
   "cell_type": "code",
   "execution_count": 101,
   "metadata": {},
   "outputs": [],
   "source": [
    "def window_data(df, window, feature_col_number, target_col_number):\n",
    "    \"\"\"\n",
    "    This function accepts the column number for the features (X) and the target (y).\n",
    "    It chunks the data up with a rolling window of Xt - window to predict Xt.\n",
    "    It returns two numpy arrays of X and y.\n",
    "    \"\"\"\n",
    "    X = []\n",
    "    y = []\n",
    "    for i in range(len(df) - window):\n",
    "        features = df.iloc[i : (i + window), feature_col_number]\n",
    "        target = df.iloc[(i + window), target_col_number]\n",
    "        X.append(features)\n",
    "        y.append(target)\n",
    "    return np.array(X), np.array(y).reshape(-1, 1)"
   ]
  },
  {
   "cell_type": "code",
   "execution_count": 102,
   "metadata": {},
   "outputs": [
    {
     "name": "stdout",
     "output_type": "stream",
     "text": [
      "X sample values:\n",
      "[[ 0.00746996 -0.04823912 -0.01073428  0.03138732  0.03359253]\n",
      " [-0.04823912 -0.01073428  0.03138732  0.03359253 -0.04794326]\n",
      " [-0.01073428  0.03138732  0.03359253 -0.04794326 -0.00582573]\n",
      " [ 0.03138732  0.03359253 -0.04794326 -0.00582573 -0.02165605]] \n",
      "\n",
      "y sample values:\n",
      "[[-0.04794326]\n",
      " [-0.00582573]\n",
      " [-0.02165605]\n",
      " [-0.00992619]]\n"
     ]
    }
   ],
   "source": [
    "# Creating the features (X) and target (y) data using the window_data() function.\n",
    "window_size = 5\n",
    "\n",
    "feature_column = 5\n",
    "target_column = 5\n",
    "X, y = window_data(stock_df, window_size, feature_column, target_column)\n",
    "print (f\"X sample values:\\n{X[:4]} \\n\")\n",
    "print (f\"y sample values:\\n{y[:4]}\")"
   ]
  },
  {
   "cell_type": "code",
   "execution_count": 103,
   "metadata": {},
   "outputs": [],
   "source": [
    "# Use 70% of the data for training and the remainder for testing\n",
    "split = int(0.7 * len(X))\n",
    "X_train = X[: split]\n",
    "X_test = X[split:]\n",
    "y_train = y[: split]\n",
    "y_test = y[split:]"
   ]
  },
  {
   "cell_type": "code",
   "execution_count": 104,
   "metadata": {},
   "outputs": [],
   "source": [
    "# Use the MinMaxScaler to scale data between 0 and 1.\n",
    "from sklearn.preprocessing import MinMaxScaler\n",
    "\n",
    "scaler = MinMaxScaler()\n",
    "scaler.fit(X)\n",
    "X_train = scaler.transform(X_train)\n",
    "X_test = scaler.transform(X_test)\n",
    "scaler.fit(y)\n",
    "y_train = scaler.transform(y_train)\n",
    "y_test = scaler.transform(y_test)"
   ]
  },
  {
   "cell_type": "code",
   "execution_count": 105,
   "metadata": {},
   "outputs": [
    {
     "data": {
      "text/plain": [
       "array([[0.37233552],\n",
       "       [0.37233552],\n",
       "       [0.36151506],\n",
       "       ...,\n",
       "       [0.62940015],\n",
       "       [0.62940015],\n",
       "       [0.62940015]])"
      ]
     },
     "execution_count": 105,
     "metadata": {},
     "output_type": "execute_result"
    }
   ],
   "source": [
    "y_test"
   ]
  },
  {
   "cell_type": "code",
   "execution_count": 106,
   "metadata": {},
   "outputs": [
    {
     "name": "stdout",
     "output_type": "stream",
     "text": [
      "X_train sample values:\n",
      "[[[0.38071768]\n",
      "  [0.23592354]\n",
      "  [0.33340282]\n",
      "  [0.44288158]\n",
      "  [0.44861318]]\n",
      "\n",
      " [[0.23592354]\n",
      "  [0.33340282]\n",
      "  [0.44288158]\n",
      "  [0.44861318]\n",
      "  [0.23669252]]\n",
      "\n",
      " [[0.33340282]\n",
      "  [0.44288158]\n",
      "  [0.44861318]\n",
      "  [0.23669252]\n",
      "  [0.34616069]]\n",
      "\n",
      " [[0.44288158]\n",
      "  [0.44861318]\n",
      "  [0.23669252]\n",
      "  [0.34616069]\n",
      "  [0.30501592]]\n",
      "\n",
      " [[0.44861318]\n",
      "  [0.23669252]\n",
      "  [0.34616069]\n",
      "  [0.30501592]\n",
      "  [0.33550314]]] \n",
      "\n",
      "X_test sample values:\n",
      "[[[0.37233552]\n",
      "  [0.37233552]\n",
      "  [0.37233552]\n",
      "  [0.37233552]\n",
      "  [0.37233552]]\n",
      "\n",
      " [[0.37233552]\n",
      "  [0.37233552]\n",
      "  [0.37233552]\n",
      "  [0.37233552]\n",
      "  [0.37233552]]\n",
      "\n",
      " [[0.37233552]\n",
      "  [0.37233552]\n",
      "  [0.37233552]\n",
      "  [0.37233552]\n",
      "  [0.37233552]]\n",
      "\n",
      " [[0.37233552]\n",
      "  [0.37233552]\n",
      "  [0.37233552]\n",
      "  [0.37233552]\n",
      "  [0.36151506]]\n",
      "\n",
      " [[0.37233552]\n",
      "  [0.37233552]\n",
      "  [0.37233552]\n",
      "  [0.36151506]\n",
      "  [0.36151506]]]\n"
     ]
    }
   ],
   "source": [
    "# Reshape the features for the model\n",
    "X_train = X_train.reshape((X_train.shape[0], X_train.shape[1], 1))\n",
    "X_test = X_test.reshape((X_test.shape[0], X_test.shape[1], 1))\n",
    "print (f\"X_train sample values:\\n{X_train[:5]} \\n\")\n",
    "print (f\"X_test sample values:\\n{X_test[:5]}\")"
   ]
  },
  {
   "cell_type": "code",
   "execution_count": 107,
   "metadata": {},
   "outputs": [],
   "source": [
    "from tensorflow.keras.models import Sequential\n",
    "from tensorflow.keras.layers import LSTM, Dense, Dropout"
   ]
  },
  {
   "cell_type": "code",
   "execution_count": 108,
   "metadata": {},
   "outputs": [],
   "source": [
    "# Define the LSTM RNN model.\n",
    "model = Sequential()\n",
    "\n",
    "number_units = 5\n",
    "dropout_fraction = 0.2\n",
    "\n",
    "# Layer 1\n",
    "model.add(LSTM(\n",
    "    units=number_units,\n",
    "    return_sequences=True,\n",
    "    input_shape=(X_train.shape[1], 1))\n",
    "    )\n",
    "model.add(Dropout(dropout_fraction))\n",
    "# Layer 2\n",
    "model.add(LSTM(units=number_units, return_sequences=True))\n",
    "model.add(Dropout(dropout_fraction))\n",
    "# Layer 3\n",
    "model.add(LSTM(units=number_units))\n",
    "model.add(Dropout(dropout_fraction))\n",
    "# Output layer\n",
    "model.add(Dense(1))"
   ]
  },
  {
   "cell_type": "code",
   "execution_count": 109,
   "metadata": {},
   "outputs": [],
   "source": [
    "# Compile the model\n",
    "model.compile(optimizer=\"adam\", loss=\"mean_squared_error\")"
   ]
  },
  {
   "cell_type": "code",
   "execution_count": 110,
   "metadata": {},
   "outputs": [
    {
     "name": "stdout",
     "output_type": "stream",
     "text": [
      "Model: \"sequential_4\"\n",
      "_________________________________________________________________\n",
      "Layer (type)                 Output Shape              Param #   \n",
      "=================================================================\n",
      "lstm_12 (LSTM)               (None, 5, 5)              140       \n",
      "_________________________________________________________________\n",
      "dropout_12 (Dropout)         (None, 5, 5)              0         \n",
      "_________________________________________________________________\n",
      "lstm_13 (LSTM)               (None, 5, 5)              220       \n",
      "_________________________________________________________________\n",
      "dropout_13 (Dropout)         (None, 5, 5)              0         \n",
      "_________________________________________________________________\n",
      "lstm_14 (LSTM)               (None, 5)                 220       \n",
      "_________________________________________________________________\n",
      "dropout_14 (Dropout)         (None, 5)                 0         \n",
      "_________________________________________________________________\n",
      "dense_4 (Dense)              (None, 1)                 6         \n",
      "=================================================================\n",
      "Total params: 586\n",
      "Trainable params: 586\n",
      "Non-trainable params: 0\n",
      "_________________________________________________________________\n"
     ]
    }
   ],
   "source": [
    "# Summarize the model\n",
    "model.summary()"
   ]
  },
  {
   "cell_type": "code",
   "execution_count": 111,
   "metadata": {},
   "outputs": [
    {
     "data": {
      "text/plain": [
       "array([[[0.38071766],\n",
       "        [0.23592354],\n",
       "        [0.3334028 ],\n",
       "        [0.44288158],\n",
       "        [0.44861317]],\n",
       "\n",
       "       [[0.23592354],\n",
       "        [0.3334028 ],\n",
       "        [0.44288158],\n",
       "        [0.44861317],\n",
       "        [0.23669252]],\n",
       "\n",
       "       [[0.3334028 ],\n",
       "        [0.44288158],\n",
       "        [0.44861317],\n",
       "        [0.23669252],\n",
       "        [0.34616068]],\n",
       "\n",
       "       ...,\n",
       "\n",
       "       [[0.37233552],\n",
       "        [0.37233552],\n",
       "        [0.37233552],\n",
       "        [0.37233552],\n",
       "        [0.37233552]],\n",
       "\n",
       "       [[0.37233552],\n",
       "        [0.37233552],\n",
       "        [0.37233552],\n",
       "        [0.37233552],\n",
       "        [0.37233552]],\n",
       "\n",
       "       [[0.37233552],\n",
       "        [0.37233552],\n",
       "        [0.37233552],\n",
       "        [0.37233552],\n",
       "        [0.37233552]]], dtype=float32)"
      ]
     },
     "execution_count": 111,
     "metadata": {},
     "output_type": "execute_result"
    }
   ],
   "source": [
    "X_train = X_train.astype(\"float32\")\n",
    "X_train"
   ]
  },
  {
   "cell_type": "code",
   "execution_count": 112,
   "metadata": {},
   "outputs": [
    {
     "data": {
      "text/plain": [
       "array([[0.23669252],\n",
       "       [0.34616068],\n",
       "       [0.30501592],\n",
       "       ...,\n",
       "       [0.37233552],\n",
       "       [0.37233552],\n",
       "       [0.37233552]], dtype=float32)"
      ]
     },
     "execution_count": 112,
     "metadata": {},
     "output_type": "execute_result"
    }
   ],
   "source": [
    "y_train = y_train.astype('float32')\n",
    "y_train"
   ]
  },
  {
   "cell_type": "code",
   "execution_count": 113,
   "metadata": {},
   "outputs": [
    {
     "name": "stdout",
     "output_type": "stream",
     "text": [
      "Epoch 1/20\n",
      "2739/2739 [==============================] - 18s 5ms/step - loss: 0.0231\n",
      "Epoch 2/20\n",
      "2739/2739 [==============================] - 13s 5ms/step - loss: 0.0093\n",
      "Epoch 3/20\n",
      "2739/2739 [==============================] - 13s 5ms/step - loss: 0.0081\n",
      "Epoch 4/20\n",
      "2739/2739 [==============================] - 13s 5ms/step - loss: 0.0075\n",
      "Epoch 5/20\n",
      "2739/2739 [==============================] - 12s 4ms/step - loss: 0.0069\n",
      "Epoch 6/20\n",
      "2739/2739 [==============================] - 13s 5ms/step - loss: 0.0069\n",
      "Epoch 7/20\n",
      "2739/2739 [==============================] - 12s 4ms/step - loss: 0.0064\n",
      "Epoch 8/20\n",
      "2739/2739 [==============================] - 12s 4ms/step - loss: 0.0065\n",
      "Epoch 9/20\n",
      "2739/2739 [==============================] - 12s 4ms/step - loss: 0.0067\n",
      "Epoch 10/20\n",
      "2739/2739 [==============================] - 12s 4ms/step - loss: 0.0065\n",
      "Epoch 11/20\n",
      "2739/2739 [==============================] - 12s 4ms/step - loss: 0.0063\n",
      "Epoch 12/20\n",
      "2739/2739 [==============================] - 12s 4ms/step - loss: 0.0064\n",
      "Epoch 13/20\n",
      "2739/2739 [==============================] - 12s 4ms/step - loss: 0.0062\n",
      "Epoch 14/20\n",
      "2739/2739 [==============================] - 12s 4ms/step - loss: 0.0065\n",
      "Epoch 15/20\n",
      "2739/2739 [==============================] - 12s 4ms/step - loss: 0.0070\n",
      "Epoch 16/20\n",
      "2739/2739 [==============================] - 12s 4ms/step - loss: 0.0063\n",
      "Epoch 17/20\n",
      "2739/2739 [==============================] - 12s 4ms/step - loss: 0.0067\n",
      "Epoch 18/20\n",
      "2739/2739 [==============================] - 12s 4ms/step - loss: 0.0064\n",
      "Epoch 19/20\n",
      "2739/2739 [==============================] - 12s 4ms/step - loss: 0.0066\n",
      "Epoch 20/20\n",
      "2739/2739 [==============================] - 12s 4ms/step - loss: 0.0069\n"
     ]
    },
    {
     "data": {
      "text/plain": [
       "<tensorflow.python.keras.callbacks.History at 0x22a008dcc70>"
      ]
     },
     "execution_count": 113,
     "metadata": {},
     "output_type": "execute_result"
    }
   ],
   "source": [
    "# Train the model\n",
    "model.fit(X_train, y_train, epochs=20, shuffle=False, batch_size=1, verbose=1)"
   ]
  },
  {
   "cell_type": "code",
   "execution_count": 114,
   "metadata": {},
   "outputs": [],
   "source": [
    "# Save model as JSON\n",
    "model_json = model.to_json()\n",
    "\n",
    "file_path = Path(\"model_2.json\")\n",
    "with open(file_path, \"w\") as json_file:\n",
    "    json_file.write(model_json)\n",
    "\n",
    "# Save weights\n",
    "file_path = \"model_2.h5\"\n",
    "model.save_weights(\"model_2.h5\")"
   ]
  },
  {
   "cell_type": "code",
   "execution_count": 115,
   "metadata": {},
   "outputs": [
    {
     "name": "stdout",
     "output_type": "stream",
     "text": [
      "37/37 [==============================] - 1s 2ms/step - loss: 0.0032\n"
     ]
    },
    {
     "data": {
      "text/plain": [
       "0.0032434025779366493"
      ]
     },
     "execution_count": 115,
     "metadata": {},
     "output_type": "execute_result"
    }
   ],
   "source": [
    "# Evaluate the model\n",
    "model.evaluate(X_test, y_test)"
   ]
  },
  {
   "cell_type": "code",
   "execution_count": 116,
   "metadata": {},
   "outputs": [],
   "source": [
    "# Make some predictions\n",
    "predicted = model.predict(X_test)"
   ]
  },
  {
   "cell_type": "code",
   "execution_count": 117,
   "metadata": {},
   "outputs": [],
   "source": [
    "# Recover the original prices instead of the scaled version\n",
    "predicted_prices = scaler.inverse_transform(predicted)\n",
    "real_prices = scaler.inverse_transform(y_test.reshape(-1, 1))"
   ]
  },
  {
   "cell_type": "code",
   "execution_count": 118,
   "metadata": {},
   "outputs": [
    {
     "data": {
      "text/html": [
       "<div>\n",
       "<style scoped>\n",
       "    .dataframe tbody tr th:only-of-type {\n",
       "        vertical-align: middle;\n",
       "    }\n",
       "\n",
       "    .dataframe tbody tr th {\n",
       "        vertical-align: top;\n",
       "    }\n",
       "\n",
       "    .dataframe thead th {\n",
       "        text-align: right;\n",
       "    }\n",
       "</style>\n",
       "<table border=\"1\" class=\"dataframe\">\n",
       "  <thead>\n",
       "    <tr style=\"text-align: right;\">\n",
       "      <th></th>\n",
       "      <th>Real</th>\n",
       "      <th>Predicted</th>\n",
       "    </tr>\n",
       "  </thead>\n",
       "  <tbody>\n",
       "    <tr>\n",
       "      <th>2982</th>\n",
       "      <td>0.004245</td>\n",
       "      <td>0.003956</td>\n",
       "    </tr>\n",
       "    <tr>\n",
       "      <th>2983</th>\n",
       "      <td>0.004245</td>\n",
       "      <td>0.003956</td>\n",
       "    </tr>\n",
       "    <tr>\n",
       "      <th>2984</th>\n",
       "      <td>0.000082</td>\n",
       "      <td>0.003956</td>\n",
       "    </tr>\n",
       "    <tr>\n",
       "      <th>2985</th>\n",
       "      <td>0.000082</td>\n",
       "      <td>0.000460</td>\n",
       "    </tr>\n",
       "    <tr>\n",
       "      <th>2986</th>\n",
       "      <td>0.027732</td>\n",
       "      <td>0.000721</td>\n",
       "    </tr>\n",
       "  </tbody>\n",
       "</table>\n",
       "</div>"
      ],
      "text/plain": [
       "          Real  Predicted\n",
       "2982  0.004245   0.003956\n",
       "2983  0.004245   0.003956\n",
       "2984  0.000082   0.003956\n",
       "2985  0.000082   0.000460\n",
       "2986  0.027732   0.000721"
      ]
     },
     "execution_count": 118,
     "metadata": {},
     "output_type": "execute_result"
    }
   ],
   "source": [
    "# Create a DataFrame of Real and Predicted values\n",
    "stocks = pd.DataFrame({\n",
    "    \"Real\": real_prices.ravel(),\n",
    "    \"Predicted\": predicted_prices.ravel()\n",
    "    }, index = stock_df.index[-len(real_prices): ])\n",
    "stocks.head()"
   ]
  },
  {
   "cell_type": "code",
   "execution_count": 119,
   "metadata": {},
   "outputs": [
    {
     "data": {
      "text/html": [
       "<div>\n",
       "<style scoped>\n",
       "    .dataframe tbody tr th:only-of-type {\n",
       "        vertical-align: middle;\n",
       "    }\n",
       "\n",
       "    .dataframe tbody tr th {\n",
       "        vertical-align: top;\n",
       "    }\n",
       "\n",
       "    .dataframe thead th {\n",
       "        text-align: right;\n",
       "    }\n",
       "</style>\n",
       "<table border=\"1\" class=\"dataframe\">\n",
       "  <thead>\n",
       "    <tr style=\"text-align: right;\">\n",
       "      <th></th>\n",
       "      <th>Real</th>\n",
       "      <th>Predicted</th>\n",
       "    </tr>\n",
       "  </thead>\n",
       "  <tbody>\n",
       "    <tr>\n",
       "      <th>2982</th>\n",
       "      <td>0.004245</td>\n",
       "      <td>0.003956</td>\n",
       "    </tr>\n",
       "    <tr>\n",
       "      <th>2983</th>\n",
       "      <td>0.004245</td>\n",
       "      <td>0.003956</td>\n",
       "    </tr>\n",
       "    <tr>\n",
       "      <th>2984</th>\n",
       "      <td>0.000082</td>\n",
       "      <td>0.003956</td>\n",
       "    </tr>\n",
       "    <tr>\n",
       "      <th>2985</th>\n",
       "      <td>0.000082</td>\n",
       "      <td>0.000460</td>\n",
       "    </tr>\n",
       "    <tr>\n",
       "      <th>2986</th>\n",
       "      <td>0.027732</td>\n",
       "      <td>0.000721</td>\n",
       "    </tr>\n",
       "    <tr>\n",
       "      <th>...</th>\n",
       "      <td>...</td>\n",
       "      <td>...</td>\n",
       "    </tr>\n",
       "    <tr>\n",
       "      <th>3204</th>\n",
       "      <td>0.003634</td>\n",
       "      <td>0.002152</td>\n",
       "    </tr>\n",
       "    <tr>\n",
       "      <th>3205</th>\n",
       "      <td>0.003634</td>\n",
       "      <td>0.002355</td>\n",
       "    </tr>\n",
       "    <tr>\n",
       "      <th>3206</th>\n",
       "      <td>0.003634</td>\n",
       "      <td>0.002622</td>\n",
       "    </tr>\n",
       "    <tr>\n",
       "      <th>3207</th>\n",
       "      <td>0.003634</td>\n",
       "      <td>0.003307</td>\n",
       "    </tr>\n",
       "    <tr>\n",
       "      <th>3208</th>\n",
       "      <td>-0.049699</td>\n",
       "      <td>0.003535</td>\n",
       "    </tr>\n",
       "  </tbody>\n",
       "</table>\n",
       "<p>200 rows × 2 columns</p>\n",
       "</div>"
      ],
      "text/plain": [
       "          Real  Predicted\n",
       "2982  0.004245   0.003956\n",
       "2983  0.004245   0.003956\n",
       "2984  0.000082   0.003956\n",
       "2985  0.000082   0.000460\n",
       "2986  0.027732   0.000721\n",
       "...        ...        ...\n",
       "3204  0.003634   0.002152\n",
       "3205  0.003634   0.002355\n",
       "3206  0.003634   0.002622\n",
       "3207  0.003634   0.003307\n",
       "3208 -0.049699   0.003535\n",
       "\n",
       "[200 rows x 2 columns]"
      ]
     },
     "execution_count": 119,
     "metadata": {},
     "output_type": "execute_result"
    }
   ],
   "source": [
    "stocks.head(200)"
   ]
  },
  {
   "cell_type": "code",
   "execution_count": 120,
   "metadata": {},
   "outputs": [
    {
     "data": {
      "text/plain": [
       "<matplotlib.axes._subplots.AxesSubplot at 0x22a072e0520>"
      ]
     },
     "execution_count": 120,
     "metadata": {},
     "output_type": "execute_result"
    },
    {
     "data": {
      "image/png": "[encoded data removed]",
      "text/plain": [
       "<Figure size 432x288 with 1 Axes>"
      ]
     },
     "metadata": {
      "needs_background": "light"
     },
     "output_type": "display_data"
    }
   ],
   "source": [
    "# Plot the real vs predicted prices as a line chart\n",
    "stocks.plot()"
   ]
  }
 ],
 "metadata": {
  "kernelspec": {
   "display_name": "Python 3",
   "language": "python",
   "name": "python3"
  },
  "language_info": {
   "codemirror_mode": {
    "name": "ipython",
    "version": 3
   },
   "file_extension": ".py",
   "mimetype": "text/x-python",
   "name": "python",
   "nbconvert_exporter": "python",
   "pygments_lexer": "ipython3",
   "version": "3.8.3"
  }
 },
 "nbformat": 4,
 "nbformat_minor": 4
}
