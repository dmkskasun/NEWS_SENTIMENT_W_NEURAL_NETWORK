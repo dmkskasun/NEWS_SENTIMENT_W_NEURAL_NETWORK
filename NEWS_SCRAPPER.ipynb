{
 "cells": [
  {
   "cell_type": "code",
   "execution_count": 2,
   "metadata": {},
   "outputs": [],
   "source": [
    "from requests_html import HTMLSession,PyQuery as pq"
   ]
  },
  {
   "cell_type": "code",
   "execution_count": 3,
   "metadata": {},
   "outputs": [],
   "source": [
    "session=HTMLSession()"
   ]
  },
  {
   "cell_type": "code",
   "execution_count": 4,
   "metadata": {},
   "outputs": [],
   "source": [
    "from nltk.sentiment.vader import SentimentIntensityAnalyzer"
   ]
  },
  {
   "cell_type": "code",
   "execution_count": 5,
   "metadata": {},
   "outputs": [],
   "source": [
    "sid = SentimentIntensityAnalyzer()"
   ]
  },
  {
   "cell_type": "code",
   "execution_count": 6,
   "metadata": {},
   "outputs": [
    {
     "data": {
      "text/plain": [
       "{'neg': 0.305, 'neu': 0.695, 'pos': 0.0, 'compound': -0.8481}"
      ]
     },
     "execution_count": 6,
     "metadata": {},
     "output_type": "execute_result"
    }
   ],
   "source": [
    "sid.polarity_scores('At least nine people were killed in the first strike when missiles destroyed a moving vehicle in the North Waziristan tribal region, the officials said.')"
   ]
  },
  {
   "cell_type": "code",
   "execution_count": 7,
   "metadata": {},
   "outputs": [
    {
     "data": {
      "text/plain": [
       "{'neg': 0.048, 'neu': 0.809, 'pos': 0.143, 'compound': 0.9151}"
      ]
     },
     "execution_count": 7,
     "metadata": {},
     "output_type": "execute_result"
    }
   ],
   "source": [
    "sid.polarity_scores('U.S. stocks climbed as Janet Yellen endorsed higher coronavirus relief spending and some of the country’s biggest banks beat expectations for fourth-quarter earnings.The Dow Jones Industrial Average rose 116.26 points, or 0.4%, to 30930.52. The S&P 500 advanced 30.66 points, or 0.8%, to 3798.91. The technology-heavy Nasdaq Composite jumped 198.68 points, or 1.5%, to 13197.18.The gains marked an upbeat start to the week, following a long holiday weekend with markets closed on Monday, after all three indexes fell last week. The Dow, S&P 500 and Nasdaq are all within 1% of record highs set earlier this month.Ms. Yellen backed major fiscal stimulus to help workers and businesses battered by the coronavirus pandemic as she testified before the Senate Finance Committee, which will vote on her nomination for Treasury secretary. In prepared remarks, she said the U.S. risks a longer, more painful recession unless Congress approves more aid, and encouraged lawmakers to “act big” to shore up the recovery.')"
   ]
  },
  {
   "cell_type": "code",
   "execution_count": 8,
   "metadata": {},
   "outputs": [
    {
     "data": {
      "text/plain": [
       "{'neg': 0.035, 'neu': 0.916, 'pos': 0.049, 'compound': 0.1779}"
      ]
     },
     "execution_count": 8,
     "metadata": {},
     "output_type": "execute_result"
    }
   ],
   "source": [
    "sid.polarity_scores('EMERYVILLE, Calif., Jan. 19, 2021 (GLOBE NEWSWIRE) -- Gritstone Oncology, Inc. (Nasdaq: GRTS), a clinical-stage biotechnology company developing the next generation of cancer and infectious disease immunotherapies, today announced that it is advancing development of a second generation vaccine against SARS-CoV-2, the virus that causes COVID-19, with potential for both prolonged protection and potency against Spike mutants. Gritstone and the National Institute of Allergy and Infectious Diseases (NIAID), part of the National Institutes of Health, have entered into a clinical trial agreement to initiate clinical testing. A Phase 1 clinical trial, expected to be conducted through the NIAID-supported Infectious Diseases Clinical Research Consortium (IDCRC), is in development. The Bill & Melinda Gates Foundation (Gates Foundation) is supporting the preclinical evaluation of the vaccine.')"
   ]
  },
  {
   "cell_type": "code",
   "execution_count": 10,
   "metadata": {},
   "outputs": [
    {
     "data": {
      "text/plain": [
       "{'neg': 0.015, 'neu': 0.87, 'pos': 0.115, 'compound': 0.9042}"
      ]
     },
     "execution_count": 10,
     "metadata": {},
     "output_type": "execute_result"
    }
   ],
   "source": [
    "sid.polarity_scores('WAYNE, Pa., Jan. 19, 2021 (GLOBE NEWSWIRE) -- Aclaris Therapeutics, Inc. (Nasdaq: ACRS), a clinical-stage biopharmaceutical company focused on developing novel drug candidates for immuno-inflammatory diseases, today announced that it intends to offer and sell, subject to market conditions, shares of its common stock in an underwritten public offering. All of the shares of common stock to be sold in the offering will be offered by Aclaris. Aclaris also intends to grant the underwriters a 30-day option to purchase up to an additional 15% of the shares of its common stock offered in the public offering on the same terms and conditions. The offering is subject to market conditions, and there can be no assurance as to whether or when the offering may be completed, or the actual size or terms of the offering.')"
   ]
  },
  {
   "cell_type": "code",
   "execution_count": null,
   "metadata": {},
   "outputs": [],
   "source": []
  }
 ],
 "metadata": {
  "kernelspec": {
   "display_name": "Python 3",
   "language": "python",
   "name": "python3"
  },
  "language_info": {
   "codemirror_mode": {
    "name": "ipython",
    "version": 3
   },
   "file_extension": ".py",
   "mimetype": "text/x-python",
   "name": "python",
   "nbconvert_exporter": "python",
   "pygments_lexer": "ipython3",
   "version": "3.8.3"
  }
 },
 "nbformat": 4,
 "nbformat_minor": 4
}
